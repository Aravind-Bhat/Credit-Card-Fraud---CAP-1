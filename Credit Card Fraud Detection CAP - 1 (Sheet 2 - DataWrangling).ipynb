{
 "cells": [
  {
   "cell_type": "code",
   "execution_count": 9,
   "metadata": {},
   "outputs": [],
   "source": [
    "# import the packages that are required for Data Wrangling.\n",
    "\n",
    "import pandas as pd\n",
    "import numpy as np"
   ]
  },
  {
   "cell_type": "code",
   "execution_count": 18,
   "metadata": {},
   "outputs": [],
   "source": [
    "# Read the creditcard.csv file.\n",
    "\n",
    "df = pd.read_csv('creditcard.csv')"
   ]
  },
  {
   "cell_type": "code",
   "execution_count": 16,
   "metadata": {},
   "outputs": [
    {
     "name": "stdout",
     "output_type": "stream",
     "text": [
      "Total Rows : 284807\n",
      "Total Columns : 31\n"
     ]
    }
   ],
   "source": [
    "print ('Total Rows :', df.shape[0])\n",
    "print ('Total Columns :', df.shape[1])"
   ]
  },
  {
   "cell_type": "code",
   "execution_count": 22,
   "metadata": {},
   "outputs": [
    {
     "name": "stdout",
     "output_type": "stream",
     "text": [
      "Column Names :  ['Time', 'V1', 'V2', 'V3', 'V4', 'V5', 'V6', 'V7', 'V8', 'V9', 'V10', 'V11', 'V12', 'V13', 'V14', 'V15', 'V16', 'V17', 'V18', 'V19', 'V20', 'V21', 'V22', 'V23', 'V24', 'V25', 'V26', 'V27', 'V28', 'Amount', 'Class']\n"
     ]
    }
   ],
   "source": [
    "print ('Column Names : ', df.columns.tolist())"
   ]
  },
  {
   "cell_type": "code",
   "execution_count": null,
   "metadata": {},
   "outputs": [],
   "source": [
    "print ('Data types of each column', df.info())"
   ]
  },
  {
   "cell_type": "code",
   "execution_count": null,
   "metadata": {},
   "outputs": [],
   "source": [
    "print ('Data Description of each column : ', df.describe())"
   ]
  },
  {
   "cell_type": "code",
   "execution_count": 35,
   "metadata": {},
   "outputs": [
    {
     "name": "stdout",
     "output_type": "stream",
     "text": [
      "Null Values in the Dataset : False\n"
     ]
    }
   ],
   "source": [
    "print ('Null Values in the Dataset :', df.isnull().values.any())"
   ]
  },
  {
   "cell_type": "markdown",
   "metadata": {},
   "source": [
    "1) What kind of cleaning steps did you perform?\n",
    "This Dataset is already cleaned. And there is no null values in any of the columns. Hence No data cleaning\n",
    "is required.\n",
    "\n",
    "2) How did you deal with missing values, if any?\n",
    "\n",
    "Case 1 : Out of 284807 rows, if the Null values are below 1000 rows. We can drop those rows.\n",
    "\n",
    "Case 2 : Suppose, If in case this data has got null or NaN values, which more than 1000 rows,\n",
    "          Column : Time - We can forward fill the data here, Because this columns contain the time of transactions\n",
    "             starting from 0. And the values are in secs between first and consecutive transaction. And there is\n",
    "             a possibility of having two or more transactions happening at same time, different places.\n",
    "         \n",
    "   V1, V2...V28 - This is a masked data of transactions, PCA transformed. If any values are missing here. We can \n",
    "                  take the mean value of missing column and fill in that particular cell. But we have make sure \n",
    "                  that there are no Outliers.\n",
    "   \n",
    "   Amount - This column contains the amount in euros. We can fill this values by taking mean of Fraud or Non-fraud\n",
    "            based on the class type.\n",
    "            \n",
    "   Class - Ask mentor. And what if any Categorical values are there.\n",
    "                \n",
    "3) Were there outliers, and how did you handle them?\n",
    "    \n",
    "Ask mentor."
   ]
  },
  {
   "cell_type": "code",
   "execution_count": null,
   "metadata": {},
   "outputs": [],
   "source": []
  },
  {
   "cell_type": "code",
   "execution_count": null,
   "metadata": {},
   "outputs": [],
   "source": []
  },
  {
   "cell_type": "code",
   "execution_count": null,
   "metadata": {},
   "outputs": [],
   "source": []
  },
  {
   "cell_type": "code",
   "execution_count": null,
   "metadata": {},
   "outputs": [],
   "source": []
  },
  {
   "cell_type": "code",
   "execution_count": null,
   "metadata": {},
   "outputs": [],
   "source": []
  },
  {
   "cell_type": "code",
   "execution_count": null,
   "metadata": {},
   "outputs": [],
   "source": []
  },
  {
   "cell_type": "code",
   "execution_count": null,
   "metadata": {},
   "outputs": [],
   "source": []
  },
  {
   "cell_type": "code",
   "execution_count": null,
   "metadata": {},
   "outputs": [],
   "source": []
  },
  {
   "cell_type": "code",
   "execution_count": null,
   "metadata": {},
   "outputs": [],
   "source": []
  }
 ],
 "metadata": {
  "kernelspec": {
   "display_name": "Python 3",
   "language": "python",
   "name": "python3"
  },
  "language_info": {
   "codemirror_mode": {
    "name": "ipython",
    "version": 3
   },
   "file_extension": ".py",
   "mimetype": "text/x-python",
   "name": "python",
   "nbconvert_exporter": "python",
   "pygments_lexer": "ipython3",
   "version": "3.7.3"
  }
 },
 "nbformat": 4,
 "nbformat_minor": 2
}
